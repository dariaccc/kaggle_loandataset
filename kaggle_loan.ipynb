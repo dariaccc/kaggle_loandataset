{
  "nbformat": 4,
  "nbformat_minor": 0,
  "metadata": {
    "colab": {
      "provenance": [],
      "authorship_tag": "ABX9TyMe6NBu+9LRXLYaOQdg6waU",
      "include_colab_link": true
    },
    "kernelspec": {
      "name": "python3",
      "display_name": "Python 3"
    },
    "language_info": {
      "name": "python"
    }
  },
  "cells": [
    {
      "cell_type": "markdown",
      "metadata": {
        "id": "view-in-github",
        "colab_type": "text"
      },
      "source": [
        "<a href=\"https://colab.research.google.com/github/dariaccc/kaggle_loandataset/blob/main/kaggle_loan.ipynb\" target=\"_parent\"><img src=\"https://colab.research.google.com/assets/colab-badge.svg\" alt=\"Open In Colab\"/></a>"
      ]
    },
    {
      "cell_type": "code",
      "source": [
        "#git"
      ],
      "metadata": {
        "id": "xMy-iuIGabY4"
      },
      "execution_count": null,
      "outputs": []
    },
    {
      "cell_type": "code",
      "source": [
        "#used for shell commands\n",
        "!ls"
      ],
      "metadata": {
        "colab": {
          "base_uri": "https://localhost:8080/"
        },
        "id": "7lB8mlpfBn1E",
        "outputId": "9bc7b814-7f75-473e-e275-be69e5e10900"
      },
      "execution_count": 23,
      "outputs": [
        {
          "output_type": "stream",
          "name": "stdout",
          "text": [
            "loan_approval_dataset.csv\n"
          ]
        }
      ]
    },
    {
      "cell_type": "code",
      "execution_count": 1,
      "metadata": {
        "colab": {
          "base_uri": "https://localhost:8080/"
        },
        "id": "6kjdQDIiVG2K",
        "outputId": "8555d055-fefe-42a0-e26c-22dfbf202b55",
        "collapsed": true
      },
      "outputs": [
        {
          "output_type": "stream",
          "name": "stdout",
          "text": [
            "Collecting opendatasets\n",
            "  Downloading opendatasets-0.1.22-py3-none-any.whl.metadata (9.2 kB)\n",
            "Requirement already satisfied: tqdm in /usr/local/lib/python3.11/dist-packages (from opendatasets) (4.67.1)\n",
            "Requirement already satisfied: kaggle in /usr/local/lib/python3.11/dist-packages (from opendatasets) (1.7.4.2)\n",
            "Requirement already satisfied: click in /usr/local/lib/python3.11/dist-packages (from opendatasets) (8.1.8)\n",
            "Requirement already satisfied: bleach in /usr/local/lib/python3.11/dist-packages (from kaggle->opendatasets) (6.2.0)\n",
            "Requirement already satisfied: certifi>=14.05.14 in /usr/local/lib/python3.11/dist-packages (from kaggle->opendatasets) (2025.1.31)\n",
            "Requirement already satisfied: charset-normalizer in /usr/local/lib/python3.11/dist-packages (from kaggle->opendatasets) (3.4.1)\n",
            "Requirement already satisfied: idna in /usr/local/lib/python3.11/dist-packages (from kaggle->opendatasets) (3.10)\n",
            "Requirement already satisfied: protobuf in /usr/local/lib/python3.11/dist-packages (from kaggle->opendatasets) (5.29.4)\n",
            "Requirement already satisfied: python-dateutil>=2.5.3 in /usr/local/lib/python3.11/dist-packages (from kaggle->opendatasets) (2.8.2)\n",
            "Requirement already satisfied: python-slugify in /usr/local/lib/python3.11/dist-packages (from kaggle->opendatasets) (8.0.4)\n",
            "Requirement already satisfied: requests in /usr/local/lib/python3.11/dist-packages (from kaggle->opendatasets) (2.32.3)\n",
            "Requirement already satisfied: setuptools>=21.0.0 in /usr/local/lib/python3.11/dist-packages (from kaggle->opendatasets) (75.2.0)\n",
            "Requirement already satisfied: six>=1.10 in /usr/local/lib/python3.11/dist-packages (from kaggle->opendatasets) (1.17.0)\n",
            "Requirement already satisfied: text-unidecode in /usr/local/lib/python3.11/dist-packages (from kaggle->opendatasets) (1.3)\n",
            "Requirement already satisfied: urllib3>=1.15.1 in /usr/local/lib/python3.11/dist-packages (from kaggle->opendatasets) (2.3.0)\n",
            "Requirement already satisfied: webencodings in /usr/local/lib/python3.11/dist-packages (from kaggle->opendatasets) (0.5.1)\n",
            "Downloading opendatasets-0.1.22-py3-none-any.whl (15 kB)\n",
            "Installing collected packages: opendatasets\n",
            "Successfully installed opendatasets-0.1.22\n"
          ]
        }
      ],
      "source": [
        "!pip install -q kaggle\n",
        "!pip install opendatasets"
      ]
    },
    {
      "cell_type": "code",
      "source": [
        "from google.colab import files\n",
        "files.upload()"
      ],
      "metadata": {
        "colab": {
          "base_uri": "https://localhost:8080/",
          "height": 90
        },
        "collapsed": true,
        "id": "n2CmYiZNc6ho",
        "outputId": "ffe03cbb-30c9-4ea0-c13f-aae464e7b48b"
      },
      "execution_count": 2,
      "outputs": [
        {
          "output_type": "display_data",
          "data": {
            "text/plain": [
              "<IPython.core.display.HTML object>"
            ],
            "text/html": [
              "\n",
              "     <input type=\"file\" id=\"files-058bc490-1bcf-40fe-ae21-f3cbfab97bb0\" name=\"files[]\" multiple disabled\n",
              "        style=\"border:none\" />\n",
              "     <output id=\"result-058bc490-1bcf-40fe-ae21-f3cbfab97bb0\">\n",
              "      Upload widget is only available when the cell has been executed in the\n",
              "      current browser session. Please rerun this cell to enable.\n",
              "      </output>\n",
              "      <script>// Copyright 2017 Google LLC\n",
              "//\n",
              "// Licensed under the Apache License, Version 2.0 (the \"License\");\n",
              "// you may not use this file except in compliance with the License.\n",
              "// You may obtain a copy of the License at\n",
              "//\n",
              "//      http://www.apache.org/licenses/LICENSE-2.0\n",
              "//\n",
              "// Unless required by applicable law or agreed to in writing, software\n",
              "// distributed under the License is distributed on an \"AS IS\" BASIS,\n",
              "// WITHOUT WARRANTIES OR CONDITIONS OF ANY KIND, either express or implied.\n",
              "// See the License for the specific language governing permissions and\n",
              "// limitations under the License.\n",
              "\n",
              "/**\n",
              " * @fileoverview Helpers for google.colab Python module.\n",
              " */\n",
              "(function(scope) {\n",
              "function span(text, styleAttributes = {}) {\n",
              "  const element = document.createElement('span');\n",
              "  element.textContent = text;\n",
              "  for (const key of Object.keys(styleAttributes)) {\n",
              "    element.style[key] = styleAttributes[key];\n",
              "  }\n",
              "  return element;\n",
              "}\n",
              "\n",
              "// Max number of bytes which will be uploaded at a time.\n",
              "const MAX_PAYLOAD_SIZE = 100 * 1024;\n",
              "\n",
              "function _uploadFiles(inputId, outputId) {\n",
              "  const steps = uploadFilesStep(inputId, outputId);\n",
              "  const outputElement = document.getElementById(outputId);\n",
              "  // Cache steps on the outputElement to make it available for the next call\n",
              "  // to uploadFilesContinue from Python.\n",
              "  outputElement.steps = steps;\n",
              "\n",
              "  return _uploadFilesContinue(outputId);\n",
              "}\n",
              "\n",
              "// This is roughly an async generator (not supported in the browser yet),\n",
              "// where there are multiple asynchronous steps and the Python side is going\n",
              "// to poll for completion of each step.\n",
              "// This uses a Promise to block the python side on completion of each step,\n",
              "// then passes the result of the previous step as the input to the next step.\n",
              "function _uploadFilesContinue(outputId) {\n",
              "  const outputElement = document.getElementById(outputId);\n",
              "  const steps = outputElement.steps;\n",
              "\n",
              "  const next = steps.next(outputElement.lastPromiseValue);\n",
              "  return Promise.resolve(next.value.promise).then((value) => {\n",
              "    // Cache the last promise value to make it available to the next\n",
              "    // step of the generator.\n",
              "    outputElement.lastPromiseValue = value;\n",
              "    return next.value.response;\n",
              "  });\n",
              "}\n",
              "\n",
              "/**\n",
              " * Generator function which is called between each async step of the upload\n",
              " * process.\n",
              " * @param {string} inputId Element ID of the input file picker element.\n",
              " * @param {string} outputId Element ID of the output display.\n",
              " * @return {!Iterable<!Object>} Iterable of next steps.\n",
              " */\n",
              "function* uploadFilesStep(inputId, outputId) {\n",
              "  const inputElement = document.getElementById(inputId);\n",
              "  inputElement.disabled = false;\n",
              "\n",
              "  const outputElement = document.getElementById(outputId);\n",
              "  outputElement.innerHTML = '';\n",
              "\n",
              "  const pickedPromise = new Promise((resolve) => {\n",
              "    inputElement.addEventListener('change', (e) => {\n",
              "      resolve(e.target.files);\n",
              "    });\n",
              "  });\n",
              "\n",
              "  const cancel = document.createElement('button');\n",
              "  inputElement.parentElement.appendChild(cancel);\n",
              "  cancel.textContent = 'Cancel upload';\n",
              "  const cancelPromise = new Promise((resolve) => {\n",
              "    cancel.onclick = () => {\n",
              "      resolve(null);\n",
              "    };\n",
              "  });\n",
              "\n",
              "  // Wait for the user to pick the files.\n",
              "  const files = yield {\n",
              "    promise: Promise.race([pickedPromise, cancelPromise]),\n",
              "    response: {\n",
              "      action: 'starting',\n",
              "    }\n",
              "  };\n",
              "\n",
              "  cancel.remove();\n",
              "\n",
              "  // Disable the input element since further picks are not allowed.\n",
              "  inputElement.disabled = true;\n",
              "\n",
              "  if (!files) {\n",
              "    return {\n",
              "      response: {\n",
              "        action: 'complete',\n",
              "      }\n",
              "    };\n",
              "  }\n",
              "\n",
              "  for (const file of files) {\n",
              "    const li = document.createElement('li');\n",
              "    li.append(span(file.name, {fontWeight: 'bold'}));\n",
              "    li.append(span(\n",
              "        `(${file.type || 'n/a'}) - ${file.size} bytes, ` +\n",
              "        `last modified: ${\n",
              "            file.lastModifiedDate ? file.lastModifiedDate.toLocaleDateString() :\n",
              "                                    'n/a'} - `));\n",
              "    const percent = span('0% done');\n",
              "    li.appendChild(percent);\n",
              "\n",
              "    outputElement.appendChild(li);\n",
              "\n",
              "    const fileDataPromise = new Promise((resolve) => {\n",
              "      const reader = new FileReader();\n",
              "      reader.onload = (e) => {\n",
              "        resolve(e.target.result);\n",
              "      };\n",
              "      reader.readAsArrayBuffer(file);\n",
              "    });\n",
              "    // Wait for the data to be ready.\n",
              "    let fileData = yield {\n",
              "      promise: fileDataPromise,\n",
              "      response: {\n",
              "        action: 'continue',\n",
              "      }\n",
              "    };\n",
              "\n",
              "    // Use a chunked sending to avoid message size limits. See b/62115660.\n",
              "    let position = 0;\n",
              "    do {\n",
              "      const length = Math.min(fileData.byteLength - position, MAX_PAYLOAD_SIZE);\n",
              "      const chunk = new Uint8Array(fileData, position, length);\n",
              "      position += length;\n",
              "\n",
              "      const base64 = btoa(String.fromCharCode.apply(null, chunk));\n",
              "      yield {\n",
              "        response: {\n",
              "          action: 'append',\n",
              "          file: file.name,\n",
              "          data: base64,\n",
              "        },\n",
              "      };\n",
              "\n",
              "      let percentDone = fileData.byteLength === 0 ?\n",
              "          100 :\n",
              "          Math.round((position / fileData.byteLength) * 100);\n",
              "      percent.textContent = `${percentDone}% done`;\n",
              "\n",
              "    } while (position < fileData.byteLength);\n",
              "  }\n",
              "\n",
              "  // All done.\n",
              "  yield {\n",
              "    response: {\n",
              "      action: 'complete',\n",
              "    }\n",
              "  };\n",
              "}\n",
              "\n",
              "scope.google = scope.google || {};\n",
              "scope.google.colab = scope.google.colab || {};\n",
              "scope.google.colab._files = {\n",
              "  _uploadFiles,\n",
              "  _uploadFilesContinue,\n",
              "};\n",
              "})(self);\n",
              "</script> "
            ]
          },
          "metadata": {}
        },
        {
          "output_type": "stream",
          "name": "stdout",
          "text": [
            "Saving kaggle.json to kaggle.json\n"
          ]
        },
        {
          "output_type": "execute_result",
          "data": {
            "text/plain": [
              "{'kaggle.json': b'{\"username\":\"dariaccc\",\"key\":\"deeaf9bb31a6088afc65f35aa9cf3c3b\"}'}"
            ]
          },
          "metadata": {},
          "execution_count": 2
        }
      ]
    },
    {
      "cell_type": "code",
      "source": [
        "import opendatasets as od\n",
        "od.download (\"https://www.kaggle.com/datasets/architsharma01/loan-approval-prediction-dataset/data\")"
      ],
      "metadata": {
        "colab": {
          "base_uri": "https://localhost:8080/"
        },
        "id": "Gp9uVlmTWSzk",
        "outputId": "f4b31af6-3603-4848-8e59-4243c74f1208"
      },
      "execution_count": 3,
      "outputs": [
        {
          "output_type": "stream",
          "name": "stdout",
          "text": [
            "Dataset URL: https://www.kaggle.com/datasets/architsharma01/loan-approval-prediction-dataset\n"
          ]
        }
      ]
    },
    {
      "cell_type": "code",
      "source": [
        "#imports\n",
        "from matplotlib import pyplot as plt #for scatter plot\n",
        "from sklearn.linear_model import LogisticRegression #for logistic regression\n",
        "from sklearn.model_selection import train_test_split #for splitting the data set\n",
        "from sklearn.metrics import confusion_matrix, classification_report #for visualising the confusion matrix and other metrics\n",
        "from sklearn.preprocessing import OrdinalEncoder #for transforming rejected/approved to 0 and 1\n",
        "from sklearn.tree import DecisionTreeClassifier #for decision tree classifier\n",
        "import pandas as pd #to work with data"
      ],
      "metadata": {
        "id": "fSOrkn1zBIOD"
      },
      "execution_count": 4,
      "outputs": []
    },
    {
      "cell_type": "code",
      "source": [
        "#generate the dataset from kaggle using pandas\n",
        "loan_df = pd.read_csv(\"/content/loan-approval-prediction-dataset/loan_approval_dataset.csv\")\n",
        "loan_df.columns = loan_df.columns.str.strip() #remove spaces\n",
        "\n",
        "loan_df[\"education\"] = loan_df[\"education\"].str.strip()\n",
        "loan_df[\"self_employed\"] = loan_df[\"self_employed\"].str.strip()\n",
        "loan_df.columns.tolist() #print list to get the correct names of columns"
      ],
      "metadata": {
        "id": "QZXab505BaF4",
        "colab": {
          "base_uri": "https://localhost:8080/"
        },
        "outputId": "3872c005-d985-464c-9b56-5eb6f038ced8"
      },
      "execution_count": 5,
      "outputs": [
        {
          "output_type": "execute_result",
          "data": {
            "text/plain": [
              "['loan_id',\n",
              " 'no_of_dependents',\n",
              " 'education',\n",
              " 'self_employed',\n",
              " 'income_annum',\n",
              " 'loan_amount',\n",
              " 'loan_term',\n",
              " 'cibil_score',\n",
              " 'residential_assets_value',\n",
              " 'commercial_assets_value',\n",
              " 'luxury_assets_value',\n",
              " 'bank_asset_value',\n",
              " 'loan_status']"
            ]
          },
          "metadata": {},
          "execution_count": 5
        }
      ]
    },
    {
      "cell_type": "code",
      "source": [
        "#rejected/approved to binary values\n",
        "loan_stat = [\" Rejected\", \" Approved\"]\n",
        "enc = OrdinalEncoder(categories=[loan_stat])\n",
        "loan_df[\"loan_status\"] = enc.fit_transform(loan_df[[\"loan_status\"]])\n",
        "print(loan_df)"
      ],
      "metadata": {
        "colab": {
          "base_uri": "https://localhost:8080/"
        },
        "collapsed": true,
        "id": "vJEhq3TfJsBW",
        "outputId": "d45c7006-0e82-4641-fe98-47a2ed468b4f"
      },
      "execution_count": 6,
      "outputs": [
        {
          "output_type": "stream",
          "name": "stdout",
          "text": [
            "      loan_id  no_of_dependents     education self_employed  income_annum  \\\n",
            "0           1                 2      Graduate            No       9600000   \n",
            "1           2                 0  Not Graduate           Yes       4100000   \n",
            "2           3                 3      Graduate            No       9100000   \n",
            "3           4                 3      Graduate            No       8200000   \n",
            "4           5                 5  Not Graduate           Yes       9800000   \n",
            "...       ...               ...           ...           ...           ...   \n",
            "4264     4265                 5      Graduate           Yes       1000000   \n",
            "4265     4266                 0  Not Graduate           Yes       3300000   \n",
            "4266     4267                 2  Not Graduate            No       6500000   \n",
            "4267     4268                 1  Not Graduate            No       4100000   \n",
            "4268     4269                 1      Graduate            No       9200000   \n",
            "\n",
            "      loan_amount  loan_term  cibil_score  residential_assets_value  \\\n",
            "0        29900000         12          778                   2400000   \n",
            "1        12200000          8          417                   2700000   \n",
            "2        29700000         20          506                   7100000   \n",
            "3        30700000          8          467                  18200000   \n",
            "4        24200000         20          382                  12400000   \n",
            "...           ...        ...          ...                       ...   \n",
            "4264      2300000         12          317                   2800000   \n",
            "4265     11300000         20          559                   4200000   \n",
            "4266     23900000         18          457                   1200000   \n",
            "4267     12800000          8          780                   8200000   \n",
            "4268     29700000         10          607                  17800000   \n",
            "\n",
            "      commercial_assets_value  luxury_assets_value  bank_asset_value  \\\n",
            "0                    17600000             22700000           8000000   \n",
            "1                     2200000              8800000           3300000   \n",
            "2                     4500000             33300000          12800000   \n",
            "3                     3300000             23300000           7900000   \n",
            "4                     8200000             29400000           5000000   \n",
            "...                       ...                  ...               ...   \n",
            "4264                   500000              3300000            800000   \n",
            "4265                  2900000             11000000           1900000   \n",
            "4266                 12400000             18100000           7300000   \n",
            "4267                   700000             14100000           5800000   \n",
            "4268                 11800000             35700000          12000000   \n",
            "\n",
            "      loan_status  \n",
            "0             1.0  \n",
            "1             0.0  \n",
            "2             0.0  \n",
            "3             0.0  \n",
            "4             0.0  \n",
            "...           ...  \n",
            "4264          0.0  \n",
            "4265          1.0  \n",
            "4266          0.0  \n",
            "4267          1.0  \n",
            "4268          1.0  \n",
            "\n",
            "[4269 rows x 13 columns]\n"
          ]
        }
      ]
    },
    {
      "cell_type": "code",
      "source": [
        "#binary values for graduate and self employed\n",
        "grad = [\"Not Graduate\", \"Graduate\"]\n",
        "enc = OrdinalEncoder(categories=[grad])\n",
        "loan_df[\"education\"] = enc.fit_transform(loan_df[[\"education\"]])\n",
        "\n",
        "employed = [\"No\", \"Yes\"]\n",
        "enc = OrdinalEncoder(categories=[employed])\n",
        "loan_df[\"self_employed\"] = enc.fit_transform(loan_df[[\"self_employed\"]])\n",
        "print(loan_df)"
      ],
      "metadata": {
        "colab": {
          "base_uri": "https://localhost:8080/"
        },
        "collapsed": true,
        "id": "K0IQm4meMb5n",
        "outputId": "359f848c-1e0e-49ff-c9e9-0134d66f7d01"
      },
      "execution_count": 7,
      "outputs": [
        {
          "output_type": "stream",
          "name": "stdout",
          "text": [
            "      loan_id  no_of_dependents  education  self_employed  income_annum  \\\n",
            "0           1                 2        1.0            0.0       9600000   \n",
            "1           2                 0        0.0            1.0       4100000   \n",
            "2           3                 3        1.0            0.0       9100000   \n",
            "3           4                 3        1.0            0.0       8200000   \n",
            "4           5                 5        0.0            1.0       9800000   \n",
            "...       ...               ...        ...            ...           ...   \n",
            "4264     4265                 5        1.0            1.0       1000000   \n",
            "4265     4266                 0        0.0            1.0       3300000   \n",
            "4266     4267                 2        0.0            0.0       6500000   \n",
            "4267     4268                 1        0.0            0.0       4100000   \n",
            "4268     4269                 1        1.0            0.0       9200000   \n",
            "\n",
            "      loan_amount  loan_term  cibil_score  residential_assets_value  \\\n",
            "0        29900000         12          778                   2400000   \n",
            "1        12200000          8          417                   2700000   \n",
            "2        29700000         20          506                   7100000   \n",
            "3        30700000          8          467                  18200000   \n",
            "4        24200000         20          382                  12400000   \n",
            "...           ...        ...          ...                       ...   \n",
            "4264      2300000         12          317                   2800000   \n",
            "4265     11300000         20          559                   4200000   \n",
            "4266     23900000         18          457                   1200000   \n",
            "4267     12800000          8          780                   8200000   \n",
            "4268     29700000         10          607                  17800000   \n",
            "\n",
            "      commercial_assets_value  luxury_assets_value  bank_asset_value  \\\n",
            "0                    17600000             22700000           8000000   \n",
            "1                     2200000              8800000           3300000   \n",
            "2                     4500000             33300000          12800000   \n",
            "3                     3300000             23300000           7900000   \n",
            "4                     8200000             29400000           5000000   \n",
            "...                       ...                  ...               ...   \n",
            "4264                   500000              3300000            800000   \n",
            "4265                  2900000             11000000           1900000   \n",
            "4266                 12400000             18100000           7300000   \n",
            "4267                   700000             14100000           5800000   \n",
            "4268                 11800000             35700000          12000000   \n",
            "\n",
            "      loan_status  \n",
            "0             1.0  \n",
            "1             0.0  \n",
            "2             0.0  \n",
            "3             0.0  \n",
            "4             0.0  \n",
            "...           ...  \n",
            "4264          0.0  \n",
            "4265          1.0  \n",
            "4266          0.0  \n",
            "4267          1.0  \n",
            "4268          1.0  \n",
            "\n",
            "[4269 rows x 13 columns]\n"
          ]
        }
      ]
    },
    {
      "cell_type": "code",
      "source": [
        "#split the dataset\n",
        "x = loan_df.drop(columns=[\"loan_status\"])\n",
        "y = loan_df[\"loan_status\"]\n",
        "\n",
        "x_train, x_test, y_train, y_test = train_test_split(x, y, random_state=1, test_size=0.2)\n",
        "#x_train.head()"
      ],
      "metadata": {
        "id": "Z2ihbxxTUJe6"
      },
      "execution_count": 8,
      "outputs": []
    },
    {
      "cell_type": "code",
      "source": [
        "print(x_train.dtypes)\n",
        "print(y_train.dtypes)"
      ],
      "metadata": {
        "colab": {
          "base_uri": "https://localhost:8080/"
        },
        "id": "GnaiadwgO8V4",
        "outputId": "670f33c5-c134-43ae-99be-947ec66ad884"
      },
      "execution_count": 9,
      "outputs": [
        {
          "output_type": "stream",
          "name": "stdout",
          "text": [
            "loan_id                       int64\n",
            "no_of_dependents              int64\n",
            "education                   float64\n",
            "self_employed               float64\n",
            "income_annum                  int64\n",
            "loan_amount                   int64\n",
            "loan_term                     int64\n",
            "cibil_score                   int64\n",
            "residential_assets_value      int64\n",
            "commercial_assets_value       int64\n",
            "luxury_assets_value           int64\n",
            "bank_asset_value              int64\n",
            "dtype: object\n",
            "float64\n"
          ]
        }
      ]
    },
    {
      "cell_type": "code",
      "source": [
        "#create a logistic regression object then perform logistic regression\n",
        "log_reg = LogisticRegression(max_iter=300)\n",
        "log_reg.fit(x_train, y_train)\n",
        "y_pred_lg = log_reg.predict(x_test)"
      ],
      "metadata": {
        "id": "UGFOOfIhIp8t"
      },
      "execution_count": 10,
      "outputs": []
    },
    {
      "cell_type": "code",
      "source": [
        "#create the decision tree classifier and perform it\n",
        "dec_tree = DecisionTreeClassifier()\n",
        "dec_tree.fit(x_train, y_train)\n",
        "y_pred_dtc = dec_tree.predict(x_test)"
      ],
      "metadata": {
        "id": "BFxKupDV2tUF"
      },
      "execution_count": 11,
      "outputs": []
    },
    {
      "cell_type": "code",
      "source": [
        "print(log_reg.score(x_test,y_test))\n",
        "print(confusion_matrix(y_test, y_pred_lg))\n",
        "report_lg = classification_report(y_test, y_pred_lg, output_dict=True)\n",
        "print(report_lg)"
      ],
      "metadata": {
        "colab": {
          "base_uri": "https://localhost:8080/"
        },
        "id": "KnMR9XSp0YhP",
        "outputId": "428d44f4-3af5-4785-8d54-7c3ae751a8a7"
      },
      "execution_count": 12,
      "outputs": [
        {
          "output_type": "stream",
          "name": "stdout",
          "text": [
            "0.7939110070257611\n",
            "[[210 123]\n",
            " [ 53 468]]\n",
            "{'0.0': {'precision': 0.7984790874524715, 'recall': 0.6306306306306306, 'f1-score': 0.7046979865771812, 'support': 333.0}, '1.0': {'precision': 0.7918781725888325, 'recall': 0.8982725527831094, 'f1-score': 0.841726618705036, 'support': 521.0}, 'accuracy': 0.7939110070257611, 'macro avg': {'precision': 0.795178630020652, 'recall': 0.7644515917068699, 'f1-score': 0.7732123026411086, 'support': 854.0}, 'weighted avg': {'precision': 0.7944520656211415, 'recall': 0.7939110070257611, 'f1-score': 0.7882950794795377, 'support': 854.0}}\n"
          ]
        }
      ]
    },
    {
      "cell_type": "code",
      "source": [
        "print(dec_tree.score(x_test,y_test))\n",
        "print(confusion_matrix(y_test, y_pred_dtc))\n",
        "report_dtc = classification_report(y_test, y_pred_dtc, output_dict=True)\n",
        "print(report_dtc)"
      ],
      "metadata": {
        "colab": {
          "base_uri": "https://localhost:8080/"
        },
        "id": "pz4puUai3Q0d",
        "outputId": "b37386f3-a9cd-4afe-feb0-aa413fab3f8a"
      },
      "execution_count": 13,
      "outputs": [
        {
          "output_type": "stream",
          "name": "stdout",
          "text": [
            "0.9707259953161592\n",
            "[[323  10]\n",
            " [ 15 506]]\n",
            "{'0.0': {'precision': 0.9556213017751479, 'recall': 0.96996996996997, 'f1-score': 0.96274217585693, 'support': 333.0}, '1.0': {'precision': 0.9806201550387597, 'recall': 0.9712092130518234, 'f1-score': 0.9758919961427194, 'support': 521.0}, 'accuracy': 0.9707259953161592, 'macro avg': {'precision': 0.9681207284069537, 'recall': 0.9705895915108966, 'f1-score': 0.9693170859998247, 'support': 854.0}, 'weighted avg': {'precision': 0.9708723586256651, 'recall': 0.9707259953161592, 'f1-score': 0.970764490106223, 'support': 854.0}}\n"
          ]
        }
      ]
    },
    {
      "cell_type": "code",
      "source": [
        "from sklearn.metrics import ConfusionMatrixDisplay\n",
        "\n",
        "fig, axes = plt.subplots(1, 2, figsize=(14, 5))\n",
        "\n",
        "ConfusionMatrixDisplay.from_estimator(log_reg, x_test, y_test, ax=axes[0])\n",
        "axes[0].set_title(\"Logistic Regression\")\n",
        "\n",
        "ConfusionMatrixDisplay.from_estimator(dec_tree, x_test, y_test, ax=axes[1])\n",
        "axes[1].set_title(\"Decision Tree Classifier\")"
      ],
      "metadata": {
        "colab": {
          "base_uri": "https://localhost:8080/",
          "height": 504
        },
        "id": "UPOm1_vY37Va",
        "outputId": "725c6fe1-592f-4fd2-f6a3-561b058a8bc6"
      },
      "execution_count": 14,
      "outputs": [
        {
          "output_type": "execute_result",
          "data": {
            "text/plain": [
              "Text(0.5, 1.0, 'Decision Tree Classifier')"
            ]
          },
          "metadata": {},
          "execution_count": 14
        },
        {
          "output_type": "display_data",
          "data": {
            "text/plain": [
              "<Figure size 1400x500 with 4 Axes>"
            ],
            "image/png": "[encoded data removed]"
          },
          "metadata": {}
        }
      ]
    },
    {
      "cell_type": "code",
      "source": [
        "import seaborn as sns\n",
        "\n",
        "# Convert to a DataFrame\n",
        "report_df_lg = pd.DataFrame(report_lg).transpose()\n",
        "report_df_dtc = pd.DataFrame(report_dtc).transpose()\n",
        "\n",
        "# Plot\n",
        "fig, axes = plt.subplots(1, 2, figsize=(20, 8))  # Wider figure for side-by-side\n",
        "\n",
        "# First heatmap (Logistic Regression)\n",
        "sns.heatmap(report_df_lg.iloc[:-1, :-1], annot=True, cmap='coolwarm', ax=axes[0])\n",
        "axes[0].set_title('Logistic Regression Report', fontsize=16)\n",
        "\n",
        "# Second heatmap (Decision Tree Classifier)\n",
        "sns.heatmap(report_df_dtc.iloc[:-1, :-1], annot=True, cmap='coolwarm', ax=axes[1])\n",
        "axes[1].set_title('Decision Tree Report', fontsize=16)\n",
        "\n",
        "plt.tight_layout()\n",
        "plt.show()"
      ],
      "metadata": {
        "colab": {
          "base_uri": "https://localhost:8080/",
          "height": 556
        },
        "id": "UNgX1rVpgrgZ",
        "outputId": "5bdba6c7-58a4-44d8-db33-d6cf190991cd"
      },
      "execution_count": 20,
      "outputs": [
        {
          "output_type": "display_data",
          "data": {
            "text/plain": [
              "<Figure size 2000x800 with 4 Axes>"
            ],
            "image/png": "[encoded data removed]"
          },
          "metadata": {}
        }
      ]
    }
  ]
}